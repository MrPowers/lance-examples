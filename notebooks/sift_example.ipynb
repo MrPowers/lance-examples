{
 "cells": [
  {
   "cell_type": "markdown",
   "id": "6929ff7b-82bf-4588-992b-9508755d5a81",
   "metadata": {},
   "source": [
    "# Lance sift example\n",
    "\n",
    "* Download ANN_SIFT1M from: http://corpus-texmex.irisa.fr/ and store it in your `~/data` directory."
   ]
  },
  {
   "cell_type": "code",
   "execution_count": 1,
   "id": "d0763202-18f4-4f2b-b904-73beb9daee04",
   "metadata": {},
   "outputs": [],
   "source": [
    "!tar -xzf ~/data/sift.tar.gz"
   ]
  },
  {
   "cell_type": "code",
   "execution_count": 1,
   "id": "48451fd6-5858-42c1-9b23-c5e22b8596a4",
   "metadata": {},
   "outputs": [],
   "source": [
    "import shutil\n",
    "\n",
    "import duckdb\n",
    "import lance\n",
    "import numpy as np\n",
    "import pandas as pd\n",
    "import pyarrow as pa\n",
    "import pyarrow.dataset"
   ]
  },
  {
   "cell_type": "code",
   "execution_count": 6,
   "id": "6e921969-74a4-44f4-8059-5d3c83a15eac",
   "metadata": {},
   "outputs": [
    {
     "name": "stderr",
     "output_type": "stream",
     "text": [
      "/Users/matthew.powers/opt/miniconda3/envs/lance-096/lib/python3.11/site-packages/tqdm/auto.py:21: TqdmWarning: IProgress not found. Please update jupyter and ipywidgets. See https://ipywidgets.readthedocs.io/en/stable/user_install.html\n",
      "  from .autonotebook import tqdm as notebook_tqdm\n"
     ]
    },
    {
     "data": {
      "text/plain": [
       "<lance.dataset.LanceDataset at 0x2dd1c2090>"
      ]
     },
     "execution_count": 6,
     "metadata": {},
     "output_type": "execute_result"
    }
   ],
   "source": [
    "import struct\n",
    "\n",
    "from lance.vector import vec_to_table\n",
    "\n",
    "uri = \"vec_data.lance\"\n",
    "\n",
    "with open(\"sift/sift_base.fvecs\", mode=\"rb\") as fobj:\n",
    "    buf = fobj.read()\n",
    "    data = np.array(\n",
    "        struct.unpack(\"<128000000f\", buf[4 : 4 + 4 * 1000000 * 128])\n",
    "    ).reshape((1000000, 128))\n",
    "    dd = dict(zip(range(1000000), data))\n",
    "\n",
    "table = vec_to_table(dd)\n",
    "lance.write_dataset(table, uri, max_rows_per_group=8192, max_rows_per_file=1024 * 1024)"
   ]
  },
  {
   "cell_type": "code",
   "execution_count": 2,
   "id": "ec7458b6-d988-4899-a190-d82d859e251e",
   "metadata": {},
   "outputs": [],
   "source": [
    "uri = \"vec_data.lance\"\n",
    "sift1m = lance.dataset(uri)"
   ]
  },
  {
   "cell_type": "code",
   "execution_count": 3,
   "id": "85928a89-891d-465d-80eb-19788a7caa19",
   "metadata": {},
   "outputs": [
    {
     "data": {
      "text/plain": [
       "0     [40.0, 23.0, 2.0, 0.0, 6.0, 6.0, 10.0, 21.0, 1...\n",
       "1     [11.0, 101.0, 22.0, 38.0, 52.0, 3.0, 1.0, 13.0...\n",
       "2     [23.0, 0.0, 0.0, 28.0, 128.0, 114.0, 28.0, 5.0...\n",
       "3     [34.0, 99.0, 15.0, 0.0, 1.793662034335766e-43,...\n",
       "4     [12.0, 14.0, 101.0, 1.793662034335766e-43, 68....\n",
       "                            ...                        \n",
       "95    [18.0, 110.0, 3.0, 0.0, 4.0, 36.0, 26.0, 10.0,...\n",
       "96    [25.0, 4.0, 9.0, 23.0, 8.0, 16.0, 81.0, 119.0,...\n",
       "97    [0.0, 34.0, 36.0, 24.0, 22.0, 1.0, 2.0, 2.0, 1...\n",
       "98    [0.0, 13.0, 11.0, 4.0, 17.0, 82.0, 46.0, 5.0, ...\n",
       "99    [1.793662034335766e-43, 50.0, 12.0, 3.0, 8.0, ...\n",
       "Name: vector, Length: 100, dtype: object"
      ]
     },
     "execution_count": 3,
     "metadata": {},
     "output_type": "execute_result"
    }
   ],
   "source": [
    "samples = duckdb.query(\"SELECT vector FROM sift1m USING SAMPLE 100\").to_df().vector\n",
    "samples"
   ]
  },
  {
   "cell_type": "code",
   "execution_count": 4,
   "id": "e7f29081-afe7-4816-8ffe-b74ca3d1a544",
   "metadata": {},
   "outputs": [],
   "source": [
    "import time\n",
    "\n",
    "start = time.time()\n",
    "tbl = sift1m.to_table(\n",
    "    columns=[\"id\"], nearest={\"column\": \"vector\", \"q\": samples[0], \"k\": 10}\n",
    ")\n",
    "end = time.time()"
   ]
  },
  {
   "cell_type": "code",
   "execution_count": 5,
   "id": "8bf40e67-fb48-4249-a707-3ea78e3d70cb",
   "metadata": {},
   "outputs": [
    {
     "name": "stdout",
     "output_type": "stream",
     "text": [
      "Time(sec): 0.01596212387084961\n"
     ]
    }
   ],
   "source": [
    "print(f\"Time(sec): {end-start}\")"
   ]
  },
  {
   "cell_type": "code",
   "execution_count": 6,
   "id": "87489ceb-3033-46f6-b952-ff8590b23eb4",
   "metadata": {},
   "outputs": [
    {
     "name": "stdout",
     "output_type": "stream",
     "text": [
      "       id                                             vector     _distance\n",
      "0  526739  [40.0, 23.0, 2.0, 0.0, 6.0, 6.0, 10.0, 21.0, 1...  10692.439453\n",
      "1  837113  [0.0, 7.0, 22.0, 5.0, 7.0, 14.0, 5.0, 0.0, 0.0...  45813.679688\n",
      "2   16544  [38.0, 1.0, 2.0, 12.0, 7.0, 17.0, 19.0, 27.0, ...  52832.359375\n",
      "3  267836  [31.0, 67.0, 28.0, 10.0, 0.0, 0.0, 0.0, 0.0, 2...  57222.203125\n",
      "4  875684  [7.0, 19.0, 23.0, 22.0, 15.0, 5.0, 3.0, 11.0, ...  59004.722656\n",
      "5  248486  [0.0, 19.0, 22.0, 1.0, 1.0, 1.0, 2.0, 1.0, 0.0...  60655.894531\n",
      "6  462497  [5.0, 17.0, 42.0, 57.0, 2.0, 0.0, 0.0, 33.0, 4...  60739.160156\n",
      "7  947150  [66.0, 14.0, 0.0, 0.0, 0.0, 0.0, 0.0, 2.0, 28....  61110.132812\n",
      "8  874394  [18.0, 46.0, 30.0, 0.0, 0.0, 0.0, 0.0, 5.0, 20...  61147.718750\n",
      "9  548411  [0.0, 2.0, 10.0, 0.0, 0.0, 0.0, 0.0, 0.0, 0.0,...  63139.500000\n"
     ]
    }
   ],
   "source": [
    "print(tbl.to_pandas())"
   ]
  },
  {
   "cell_type": "code",
   "execution_count": 12,
   "id": "ce2f2976-e805-42bb-8d2d-6da2937b7cd2",
   "metadata": {},
   "outputs": [
    {
     "name": "stdout",
     "output_type": "stream",
     "text": [
      "CPU times: user 1min 28s, sys: 2.82 s, total: 1min 31s\n",
      "Wall time: 11.2 s\n"
     ]
    },
    {
     "data": {
      "text/plain": [
       "<lance.dataset.LanceDataset at 0x2dd1c32f0>"
      ]
     },
     "execution_count": 12,
     "metadata": {},
     "output_type": "execute_result"
    }
   ],
   "source": [
    "%%time\n",
    "\n",
    "sift1m.create_index(\n",
    "    \"vector\", index_type=\"IVF_PQ\", num_partitions=256, num_sub_vectors=16\n",
    ")"
   ]
  },
  {
   "cell_type": "code",
   "execution_count": 13,
   "id": "9b8d8c0f-49a0-42bb-ba9c-ffd6102a79a3",
   "metadata": {},
   "outputs": [],
   "source": [
    "sift1m = lance.dataset(uri)"
   ]
  },
  {
   "cell_type": "code",
   "execution_count": 14,
   "id": "970dda2b-d4b3-4d77-83b7-3c31ea7f8d25",
   "metadata": {},
   "outputs": [
    {
     "name": "stdout",
     "output_type": "stream",
     "text": [
      "Avg(sec): 0.0010939693450927733\n",
      "       id                                             vector     _distance\n",
      "0     956  [39.0, 20.0, 0.0, 2.0, 36.0, 118.0, 90.0, 32.0...  16214.018555\n",
      "1  886799  [128.0, 31.0, 1.0, 0.0, 121.0, 128.0, 86.0, 1....  69260.789062\n",
      "2  694718  [53.0, 0.0, 1.0, 0.0, 25.0, 122.0, 116.0, 26.0...  71173.421875\n",
      "3  685559  [54.0, 6.0, 1.0, 0.0, 58.0, 133.0, 122.0, 8.0,...  75531.687500\n",
      "4  847196  [65.0, 21.0, 0.0, 1.0, 116.0, 70.0, 81.0, 28.0...  76660.921875\n",
      "5  282692  [112.0, 30.0, 9.0, 1.0, 97.0, 84.0, 84.0, 8.0,...  78626.078125\n",
      "6  939173  [28.0, 35.0, 1.0, 0.0, 105.0, 120.0, 57.0, 11....  78680.429688\n",
      "7  109316  [22.0, 10.0, 19.0, 37.0, 44.0, 61.0, 82.0, 31....  78744.492188\n",
      "8  112670  [62.0, 14.0, 1.0, 1.0, 73.0, 123.0, 123.0, 20....  78891.125000\n",
      "9   97706  [6.0, 16.0, 12.0, 0.0, 119.0, 67.0, 32.0, 9.0,...  79190.671875\n"
     ]
    }
   ],
   "source": [
    "import time\n",
    "\n",
    "tot = 0\n",
    "for q in samples:\n",
    "    start = time.time()\n",
    "    tbl = sift1m.to_table(nearest={\"column\": \"vector\", \"q\": q, \"k\": 10})\n",
    "    end = time.time()\n",
    "    tot += end - start\n",
    "\n",
    "print(f\"Avg(sec): {tot / len(samples)}\")\n",
    "print(tbl.to_pandas())"
   ]
  },
  {
   "cell_type": "code",
   "execution_count": 15,
   "id": "e6c22a21-1cda-4358-a14b-c053dc933362",
   "metadata": {},
   "outputs": [
    {
     "data": {
      "text/html": [
       "<div>\n",
       "<style scoped>\n",
       "    .dataframe tbody tr th:only-of-type {\n",
       "        vertical-align: middle;\n",
       "    }\n",
       "\n",
       "    .dataframe tbody tr th {\n",
       "        vertical-align: top;\n",
       "    }\n",
       "\n",
       "    .dataframe thead th {\n",
       "        text-align: right;\n",
       "    }\n",
       "</style>\n",
       "<table border=\"1\" class=\"dataframe\">\n",
       "  <thead>\n",
       "    <tr style=\"text-align: right;\">\n",
       "      <th></th>\n",
       "      <th>id</th>\n",
       "      <th>vector</th>\n",
       "      <th>_distance</th>\n",
       "    </tr>\n",
       "  </thead>\n",
       "  <tbody>\n",
       "    <tr>\n",
       "      <th>0</th>\n",
       "      <td>695882</td>\n",
       "      <td>[51.0, 5.0, 15.0, 27.0, 16.0, 14.0, 89.0, 6.0,...</td>\n",
       "      <td>0.0</td>\n",
       "    </tr>\n",
       "    <tr>\n",
       "      <th>1</th>\n",
       "      <td>698462</td>\n",
       "      <td>[57.0, 2.0, 4.0, 13.0, 16.0, 23.0, 112.0, 15.0...</td>\n",
       "      <td>75052.0</td>\n",
       "    </tr>\n",
       "    <tr>\n",
       "      <th>2</th>\n",
       "      <td>572171</td>\n",
       "      <td>[22.0, 2.0, 1.0, 1.0, 21.0, 63.0, 125.0, 2.0, ...</td>\n",
       "      <td>80446.0</td>\n",
       "    </tr>\n",
       "    <tr>\n",
       "      <th>3</th>\n",
       "      <td>264119</td>\n",
       "      <td>[5.0, 1.0, 0.0, 0.0, 6.0, 18.0, 67.0, 7.0, 1.0...</td>\n",
       "      <td>81585.0</td>\n",
       "    </tr>\n",
       "    <tr>\n",
       "      <th>4</th>\n",
       "      <td>462263</td>\n",
       "      <td>[40.0, 9.0, 1.0, 18.0, 76.0, 19.0, 64.0, 0.0, ...</td>\n",
       "      <td>81728.0</td>\n",
       "    </tr>\n",
       "    <tr>\n",
       "      <th>5</th>\n",
       "      <td>268247</td>\n",
       "      <td>[2.0, 0.0, 3.0, 11.0, 51.0, 32.0, 121.0, 15.0,...</td>\n",
       "      <td>82007.0</td>\n",
       "    </tr>\n",
       "    <tr>\n",
       "      <th>6</th>\n",
       "      <td>353516</td>\n",
       "      <td>[11.0, 1.0, 0.0, 0.0, 11.0, 81.0, 137.0, 15.0,...</td>\n",
       "      <td>83446.0</td>\n",
       "    </tr>\n",
       "    <tr>\n",
       "      <th>7</th>\n",
       "      <td>811982</td>\n",
       "      <td>[9.0, 3.0, 2.0, 0.0, 12.0, 33.0, 125.0, 8.0, 0...</td>\n",
       "      <td>84208.0</td>\n",
       "    </tr>\n",
       "    <tr>\n",
       "      <th>8</th>\n",
       "      <td>692270</td>\n",
       "      <td>[54.0, 0.0, 1.0, 3.0, 62.0, 84.0, 85.0, 8.0, 1...</td>\n",
       "      <td>85731.0</td>\n",
       "    </tr>\n",
       "    <tr>\n",
       "      <th>9</th>\n",
       "      <td>29726</td>\n",
       "      <td>[88.0, 52.0, 21.0, 10.0, 7.0, 12.0, 41.0, 26.0...</td>\n",
       "      <td>88305.0</td>\n",
       "    </tr>\n",
       "  </tbody>\n",
       "</table>\n",
       "</div>"
      ],
      "text/plain": [
       "       id                                             vector  _distance\n",
       "0  695882  [51.0, 5.0, 15.0, 27.0, 16.0, 14.0, 89.0, 6.0,...        0.0\n",
       "1  698462  [57.0, 2.0, 4.0, 13.0, 16.0, 23.0, 112.0, 15.0...    75052.0\n",
       "2  572171  [22.0, 2.0, 1.0, 1.0, 21.0, 63.0, 125.0, 2.0, ...    80446.0\n",
       "3  264119  [5.0, 1.0, 0.0, 0.0, 6.0, 18.0, 67.0, 7.0, 1.0...    81585.0\n",
       "4  462263  [40.0, 9.0, 1.0, 18.0, 76.0, 19.0, 64.0, 0.0, ...    81728.0\n",
       "5  268247  [2.0, 0.0, 3.0, 11.0, 51.0, 32.0, 121.0, 15.0,...    82007.0\n",
       "6  353516  [11.0, 1.0, 0.0, 0.0, 11.0, 81.0, 137.0, 15.0,...    83446.0\n",
       "7  811982  [9.0, 3.0, 2.0, 0.0, 12.0, 33.0, 125.0, 8.0, 0...    84208.0\n",
       "8  692270  [54.0, 0.0, 1.0, 3.0, 62.0, 84.0, 85.0, 8.0, 1...    85731.0\n",
       "9   29726  [88.0, 52.0, 21.0, 10.0, 7.0, 12.0, 41.0, 26.0...    88305.0"
      ]
     },
     "execution_count": 15,
     "metadata": {},
     "output_type": "execute_result"
    }
   ],
   "source": [
    "sift1m.to_table(\n",
    "    nearest={\n",
    "        \"column\": \"vector\",\n",
    "        \"q\": samples[0],\n",
    "        \"k\": 10,\n",
    "        \"nprobes\": 10,\n",
    "        \"refine_factor\": 5,\n",
    "    }\n",
    ").to_pandas()"
   ]
  },
  {
   "cell_type": "code",
   "execution_count": 7,
   "id": "a7b34b1a-7f37-4a64-b4d4-844b98a419cc",
   "metadata": {},
   "outputs": [
    {
     "data": {
      "text/html": [
       "<div>\n",
       "<style scoped>\n",
       "    .dataframe tbody tr th:only-of-type {\n",
       "        vertical-align: middle;\n",
       "    }\n",
       "\n",
       "    .dataframe tbody tr th {\n",
       "        vertical-align: top;\n",
       "    }\n",
       "\n",
       "    .dataframe thead th {\n",
       "        text-align: right;\n",
       "    }\n",
       "</style>\n",
       "<table border=\"1\" class=\"dataframe\">\n",
       "  <thead>\n",
       "    <tr style=\"text-align: right;\">\n",
       "      <th></th>\n",
       "      <th>id</th>\n",
       "      <th>vector</th>\n",
       "      <th>item_id</th>\n",
       "      <th>revenue</th>\n",
       "    </tr>\n",
       "  </thead>\n",
       "  <tbody>\n",
       "    <tr>\n",
       "      <th>0</th>\n",
       "      <td>0</td>\n",
       "      <td>[0.0, 16.0, 35.0, 5.0, 32.0, 31.0, 14.0, 10.0,...</td>\n",
       "      <td>0</td>\n",
       "      <td>3907.585076</td>\n",
       "    </tr>\n",
       "    <tr>\n",
       "      <th>1</th>\n",
       "      <td>1</td>\n",
       "      <td>[1.8e-43, 14.0, 35.0, 19.0, 20.0, 3.0, 1.0, 13...</td>\n",
       "      <td>1</td>\n",
       "      <td>5342.165841</td>\n",
       "    </tr>\n",
       "    <tr>\n",
       "      <th>2</th>\n",
       "      <td>2</td>\n",
       "      <td>[33.0, 1.8e-43, 0.0, 1.0, 5.0, 3.0, 44.0, 40.0...</td>\n",
       "      <td>2</td>\n",
       "      <td>5436.595909</td>\n",
       "    </tr>\n",
       "    <tr>\n",
       "      <th>3</th>\n",
       "      <td>3</td>\n",
       "      <td>[23.0, 10.0, 1.8e-43, 12.0, 47.0, 14.0, 25.0, ...</td>\n",
       "      <td>3</td>\n",
       "      <td>5038.238291</td>\n",
       "    </tr>\n",
       "    <tr>\n",
       "      <th>4</th>\n",
       "      <td>4</td>\n",
       "      <td>[27.0, 29.0, 21.0, 1.8e-43, 1.0, 1.0, 0.0, 0.0...</td>\n",
       "      <td>4</td>\n",
       "      <td>5165.215941</td>\n",
       "    </tr>\n",
       "    <tr>\n",
       "      <th>...</th>\n",
       "      <td>...</td>\n",
       "      <td>...</td>\n",
       "      <td>...</td>\n",
       "      <td>...</td>\n",
       "    </tr>\n",
       "    <tr>\n",
       "      <th>999995</th>\n",
       "      <td>999995</td>\n",
       "      <td>[8.0, 9.0, 5.0, 0.0, 10.0, 39.0, 72.0, 68.0, 3...</td>\n",
       "      <td>999995</td>\n",
       "      <td>4792.169119</td>\n",
       "    </tr>\n",
       "    <tr>\n",
       "      <th>999996</th>\n",
       "      <td>999996</td>\n",
       "      <td>[3.0, 28.0, 55.0, 29.0, 35.0, 12.0, 1.0, 2.0, ...</td>\n",
       "      <td>999996</td>\n",
       "      <td>4561.606815</td>\n",
       "    </tr>\n",
       "    <tr>\n",
       "      <th>999997</th>\n",
       "      <td>999997</td>\n",
       "      <td>[0.0, 13.0, 41.0, 72.0, 40.0, 9.0, 0.0, 0.0, 0...</td>\n",
       "      <td>999997</td>\n",
       "      <td>4195.688559</td>\n",
       "    </tr>\n",
       "    <tr>\n",
       "      <th>999998</th>\n",
       "      <td>999998</td>\n",
       "      <td>[41.0, 121.0, 4.0, 0.0, 0.0, 0.0, 0.0, 0.0, 24...</td>\n",
       "      <td>999998</td>\n",
       "      <td>3317.930871</td>\n",
       "    </tr>\n",
       "    <tr>\n",
       "      <th>999999</th>\n",
       "      <td>999999</td>\n",
       "      <td>[2.0, 4.0, 8.0, 8.0, 26.0, 72.0, 63.0, 0.0, 0....</td>\n",
       "      <td>999999</td>\n",
       "      <td>5247.819865</td>\n",
       "    </tr>\n",
       "  </tbody>\n",
       "</table>\n",
       "<p>1000000 rows × 4 columns</p>\n",
       "</div>"
      ],
      "text/plain": [
       "            id                                             vector  item_id  \\\n",
       "0            0  [0.0, 16.0, 35.0, 5.0, 32.0, 31.0, 14.0, 10.0,...        0   \n",
       "1            1  [1.8e-43, 14.0, 35.0, 19.0, 20.0, 3.0, 1.0, 13...        1   \n",
       "2            2  [33.0, 1.8e-43, 0.0, 1.0, 5.0, 3.0, 44.0, 40.0...        2   \n",
       "3            3  [23.0, 10.0, 1.8e-43, 12.0, 47.0, 14.0, 25.0, ...        3   \n",
       "4            4  [27.0, 29.0, 21.0, 1.8e-43, 1.0, 1.0, 0.0, 0.0...        4   \n",
       "...        ...                                                ...      ...   \n",
       "999995  999995  [8.0, 9.0, 5.0, 0.0, 10.0, 39.0, 72.0, 68.0, 3...   999995   \n",
       "999996  999996  [3.0, 28.0, 55.0, 29.0, 35.0, 12.0, 1.0, 2.0, ...   999996   \n",
       "999997  999997  [0.0, 13.0, 41.0, 72.0, 40.0, 9.0, 0.0, 0.0, 0...   999997   \n",
       "999998  999998  [41.0, 121.0, 4.0, 0.0, 0.0, 0.0, 0.0, 0.0, 24...   999998   \n",
       "999999  999999  [2.0, 4.0, 8.0, 8.0, 26.0, 72.0, 63.0, 0.0, 0....   999999   \n",
       "\n",
       "            revenue  \n",
       "0       3907.585076  \n",
       "1       5342.165841  \n",
       "2       5436.595909  \n",
       "3       5038.238291  \n",
       "4       5165.215941  \n",
       "...             ...  \n",
       "999995  4792.169119  \n",
       "999996  4561.606815  \n",
       "999997  4195.688559  \n",
       "999998  3317.930871  \n",
       "999999  5247.819865  \n",
       "\n",
       "[1000000 rows x 4 columns]"
      ]
     },
     "execution_count": 7,
     "metadata": {},
     "output_type": "execute_result"
    }
   ],
   "source": [
    "tbl = sift1m.to_table()\n",
    "tbl = tbl.append_column(\"item_id\", pa.array(range(len(tbl))))\n",
    "tbl = tbl.append_column(\"revenue\", pa.array((np.random.randn(len(tbl))+5)*1000))\n",
    "tbl.to_pandas()"
   ]
  },
  {
   "cell_type": "code",
   "execution_count": null,
   "id": "a254ad60-5ccd-4f90-97cf-edf4858c1605",
   "metadata": {},
   "outputs": [],
   "source": []
  }
 ],
 "metadata": {
  "kernelspec": {
   "display_name": "lance-096",
   "language": "python",
   "name": "lance-096"
  },
  "language_info": {
   "codemirror_mode": {
    "name": "ipython",
    "version": 3
   },
   "file_extension": ".py",
   "mimetype": "text/x-python",
   "name": "python",
   "nbconvert_exporter": "python",
   "pygments_lexer": "ipython3",
   "version": "3.11.7"
  }
 },
 "nbformat": 4,
 "nbformat_minor": 5
}
